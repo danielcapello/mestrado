{
  "nbformat": 4,
  "nbformat_minor": 0,
  "metadata": {
    "colab": {
      "name": "Definitivo_Criptografia_RSA.ipynb",
      "provenance": [],
      "collapsed_sections": [],
      "include_colab_link": true
    },
    "kernelspec": {
      "name": "python3",
      "display_name": "Python 3"
    }
  },
  "cells": [
    {
      "cell_type": "markdown",
      "metadata": {
        "id": "view-in-github",
        "colab_type": "text"
      },
      "source": [
        "<a href=\"https://colab.research.google.com/github/danielcapello/mestrado/blob/upload/Definitivo_Criptografia_RSA.ipynb\" target=\"_parent\"><img src=\"https://colab.research.google.com/assets/colab-badge.svg\" alt=\"Open In Colab\"/></a>"
      ]
    },
    {
      "cell_type": "code",
      "metadata": {
        "id": "XFxF2ZJmJq8H"
      },
      "source": [
        "from google.colab import drive"
      ],
      "execution_count": null,
      "outputs": []
    },
    {
      "cell_type": "code",
      "metadata": {
        "id": "DY8b-BVbJy6h",
        "colab": {
          "base_uri": "https://localhost:8080/",
          "height": 34
        },
        "outputId": "8ea92d06-90c5-43bc-fe7f-d7b6adccc76e"
      },
      "source": [
        "drive.mount('/content/drive')"
      ],
      "execution_count": null,
      "outputs": [
        {
          "output_type": "stream",
          "text": [
            "Mounted at /content/drive\n"
          ],
          "name": "stdout"
        }
      ]
    },
    {
      "cell_type": "code",
      "metadata": {
        "id": "qsyteMudSzaM"
      },
      "source": [
        "import numpy as np\n",
        "from numpy import load\n",
        "from numpy import save\n",
        "import pandas as pd"
      ],
      "execution_count": null,
      "outputs": []
    },
    {
      "cell_type": "code",
      "metadata": {
        "id": "-kORwwTBK-m0"
      },
      "source": [
        "#dados = np.load('/content/drive/My Drive/RSA_base_3072_Trein_Valid.npy', allow_pickle=True)"
      ],
      "execution_count": null,
      "outputs": []
    },
    {
      "cell_type": "code",
      "metadata": {
        "id": "yfFtQNbkNPaC"
      },
      "source": [
        "data = pd.read_csv('/content/drive/My Drive/Dados/good.csv')"
      ],
      "execution_count": null,
      "outputs": []
    },
    {
      "cell_type": "code",
      "metadata": {
        "id": "oorHVLN4yu1I"
      },
      "source": [
        "data = data.drop(data.columns[1:], axis=1)"
      ],
      "execution_count": null,
      "outputs": []
    },
    {
      "cell_type": "code",
      "metadata": {
        "id": "x-Sj0WWvvxA2"
      },
      "source": [
        "#Tamanho da chave 1024 - Blocos de 128\n",
        "#Tamanho da chave 2048 - Blocos de 256\n",
        "#Tamanho da chave 3072 - Blocos de 384"
      ],
      "execution_count": null,
      "outputs": []
    },
    {
      "cell_type": "code",
      "metadata": {
        "id": "Y10WHZ9mzNoU"
      },
      "source": [
        "data['blocos_para_encriptação'] = 0"
      ],
      "execution_count": null,
      "outputs": []
    },
    {
      "cell_type": "code",
      "metadata": {
        "id": "YfCsI6eRzVal",
        "colab": {
          "base_uri": "https://localhost:8080/",
          "height": 187
        },
        "outputId": "239a7d7a-7cc7-47ea-f1b5-48fb948bd796"
      },
      "source": [
        "for i in data.index:\n",
        "    a_dividir = data['text'][i]\n",
        "    lista = []\n",
        "    j = 0\n",
        "    while j < len(a_dividir):\n",
        "        lista.append(a_dividir[j:j+383])\n",
        "        j += 383\n",
        "    data['blocos_para_encriptação'][i] = lista   "
      ],
      "execution_count": null,
      "outputs": [
        {
          "output_type": "stream",
          "text": [
            "/usr/local/lib/python3.6/dist-packages/ipykernel_launcher.py:8: SettingWithCopyWarning: \n",
            "A value is trying to be set on a copy of a slice from a DataFrame\n",
            "\n",
            "See the caveats in the documentation: https://pandas.pydata.org/pandas-docs/stable/user_guide/indexing.html#returning-a-view-versus-a-copy\n",
            "  \n",
            "/usr/local/lib/python3.6/dist-packages/pandas/core/indexing.py:671: SettingWithCopyWarning: \n",
            "A value is trying to be set on a copy of a slice from a DataFrame\n",
            "\n",
            "See the caveats in the documentation: https://pandas.pydata.org/pandas-docs/stable/user_guide/indexing.html#returning-a-view-versus-a-copy\n",
            "  self._setitem_with_indexer(indexer, value)\n"
          ],
          "name": "stderr"
        }
      ]
    },
    {
      "cell_type": "code",
      "metadata": {
        "id": "CsCEYAf-zf8x"
      },
      "source": [
        "data['criptograma_rsa'] = 0"
      ],
      "execution_count": null,
      "outputs": []
    },
    {
      "cell_type": "code",
      "metadata": {
        "id": "YAleux1wuGbo"
      },
      "source": [
        "data['criptograma_rsa'] = dados"
      ],
      "execution_count": null,
      "outputs": []
    },
    {
      "cell_type": "code",
      "metadata": {
        "id": "9H_F8xi3was-"
      },
      "source": [
        "onde_parou = 0"
      ],
      "execution_count": null,
      "outputs": []
    },
    {
      "cell_type": "code",
      "metadata": {
        "id": "_onbtmymuO4S",
        "colab": {
          "base_uri": "https://localhost:8080/",
          "height": 34
        },
        "outputId": "73fe89c0-3763-45ea-db58-108858541b46"
      },
      "source": [
        "#verificar onde parou. Se for a primeira vez, pule essa etapa.\n",
        "for i in data.index:\n",
        "  if data['criptograma_rsa'][i] == 0:\n",
        "    print(i)\n",
        "    onde_parou = i\n",
        "    break"
      ],
      "execution_count": null,
      "outputs": [
        {
          "output_type": "stream",
          "text": [
            "25425\n"
          ],
          "name": "stdout"
        }
      ]
    },
    {
      "cell_type": "code",
      "metadata": {
        "id": "QB9yfLRxze_0",
        "colab": {
          "base_uri": "https://localhost:8080/",
          "height": 187
        },
        "outputId": "b481a44b-3df2-429d-9083-d552320c925f"
      },
      "source": [
        "pip install PyCrypto"
      ],
      "execution_count": null,
      "outputs": [
        {
          "output_type": "stream",
          "text": [
            "Collecting PyCrypto\n",
            "\u001b[?25l  Downloading https://files.pythonhosted.org/packages/60/db/645aa9af249f059cc3a368b118de33889219e0362141e75d4eaf6f80f163/pycrypto-2.6.1.tar.gz (446kB)\n",
            "\u001b[K     |████████████████████████████████| 450kB 2.9MB/s \n",
            "\u001b[?25hBuilding wheels for collected packages: PyCrypto\n",
            "  Building wheel for PyCrypto (setup.py) ... \u001b[?25l\u001b[?25hdone\n",
            "  Created wheel for PyCrypto: filename=pycrypto-2.6.1-cp36-cp36m-linux_x86_64.whl size=499939 sha256=e3975c95435dcd01748a333300fd7eb6f10d7faaf196920ad3d5529d35280e1a\n",
            "  Stored in directory: /root/.cache/pip/wheels/27/02/5e/77a69d0c16bb63c6ed32f5386f33a2809c94bd5414a2f6c196\n",
            "Successfully built PyCrypto\n",
            "Installing collected packages: PyCrypto\n",
            "Successfully installed PyCrypto-2.6.1\n"
          ],
          "name": "stdout"
        }
      ]
    },
    {
      "cell_type": "code",
      "metadata": {
        "id": "lGRFWN7LzkI3"
      },
      "source": [
        "from Crypto.PublicKey import RSA\n",
        "from Crypto import Random\n",
        "import random"
      ],
      "execution_count": null,
      "outputs": []
    },
    {
      "cell_type": "code",
      "metadata": {
        "id": "sfgTN6NWzpWo"
      },
      "source": [
        "controle = onde_parou\n",
        "for j in range(onde_parou,len(data)):\n",
        "  lista = data['blocos_para_encriptação'][j]\n",
        "  lista_criptografada_rsa = []\n",
        "  lista_criptografada_rsa_num = []\n",
        "  random_generator = Random.new().read\n",
        "  key_rsa= RSA.generate(1024,random_generator)\n",
        "  for i in range(0,len(lista)):\n",
        "    a_criptografar = lista[i]\n",
        "    lista_criptografada_rsa.append(key_rsa.encrypt(bytes(a_criptografar, encoding=\"ascii\"),8)[0])    \n",
        "  data['criptograma_rsa'][j] = lista_criptografada_rsa\n",
        "  save('/content/drive/My Drive/RSA_base_3072_Trein_Valid.npy',data['criptograma_rsa'].to_numpy()) #renomear o arquivo. Atenção\n",
        "  controle += 1\n",
        "  print(controle)"
      ],
      "execution_count": null,
      "outputs": []
    }
  ]
}