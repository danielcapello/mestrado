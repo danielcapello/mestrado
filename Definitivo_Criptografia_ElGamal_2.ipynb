{
  "nbformat": 4,
  "nbformat_minor": 0,
  "metadata": {
    "colab": {
      "name": "Definitivo_Criptografia_ElGamal_2.ipynb",
      "provenance": [],
      "collapsed_sections": [],
      "include_colab_link": true
    },
    "kernelspec": {
      "name": "python3",
      "display_name": "Python 3"
    }
  },
  "cells": [
    {
      "cell_type": "markdown",
      "metadata": {
        "id": "view-in-github",
        "colab_type": "text"
      },
      "source": [
        "<a href=\"https://colab.research.google.com/github/danielcapello/mestrado/blob/upload/Definitivo_Criptografia_ElGamal_2.ipynb\" target=\"_parent\"><img src=\"https://colab.research.google.com/assets/colab-badge.svg\" alt=\"Open In Colab\"/></a>"
      ]
    },
    {
      "cell_type": "code",
      "metadata": {
        "id": "XFxF2ZJmJq8H"
      },
      "source": [
        "from google.colab import drive"
      ],
      "execution_count": null,
      "outputs": []
    },
    {
      "cell_type": "code",
      "metadata": {
        "id": "DY8b-BVbJy6h",
        "colab": {
          "base_uri": "https://localhost:8080/",
          "height": 34
        },
        "outputId": "80e081b0-dc54-4400-d1c4-994d62ad045e"
      },
      "source": [
        "drive.mount('/content/drive')"
      ],
      "execution_count": null,
      "outputs": [
        {
          "output_type": "stream",
          "text": [
            "Mounted at /content/drive\n"
          ],
          "name": "stdout"
        }
      ]
    },
    {
      "cell_type": "code",
      "metadata": {
        "id": "qsyteMudSzaM"
      },
      "source": [
        "import numpy as np\n",
        "from numpy import load\n",
        "from numpy import save\n",
        "import pandas as pd"
      ],
      "execution_count": null,
      "outputs": []
    },
    {
      "cell_type": "code",
      "metadata": {
        "id": "-kORwwTBK-m0"
      },
      "source": [
        "dados = np.load('/content/drive/My Drive/Elgamal/Elgamal_base_1024_Test.npy', allow_pickle=True) #ler_.npy: Caso seja a primeira vez que esteja rodando o algoritmo, não rodar esta etapa"
      ],
      "execution_count": null,
      "outputs": []
    },
    {
      "cell_type": "code",
      "metadata": {
        "id": "uE7it4II2F74"
      },
      "source": [
        "dados_dataframe = pd.DataFrame(dados)"
      ],
      "execution_count": null,
      "outputs": []
    },
    {
      "cell_type": "code",
      "metadata": {
        "id": "yfFtQNbkNPaC"
      },
      "source": [
        "data = pd.read_csv('/content/drive/My Drive/Dados/good.csv')"
      ],
      "execution_count": null,
      "outputs": []
    },
    {
      "cell_type": "code",
      "metadata": {
        "id": "oorHVLN4yu1I"
      },
      "source": [
        "data = data.drop(data.columns[1:], axis=1)"
      ],
      "execution_count": null,
      "outputs": []
    },
    {
      "cell_type": "code",
      "metadata": {
        "id": "dI-BXvjbyzIZ",
        "colab": {
          "base_uri": "https://localhost:8080/",
          "height": 204
        },
        "outputId": "ca7681e7-7bc8-45e9-9387-024792b48ad5"
      },
      "source": [
        "data.head()"
      ],
      "execution_count": null,
      "outputs": [
        {
          "output_type": "execute_result",
          "data": {
            "text/html": [
              "<div>\n",
              "<style scoped>\n",
              "    .dataframe tbody tr th:only-of-type {\n",
              "        vertical-align: middle;\n",
              "    }\n",
              "\n",
              "    .dataframe tbody tr th {\n",
              "        vertical-align: top;\n",
              "    }\n",
              "\n",
              "    .dataframe thead th {\n",
              "        text-align: right;\n",
              "    }\n",
              "</style>\n",
              "<table border=\"1\" class=\"dataframe\">\n",
              "  <thead>\n",
              "    <tr style=\"text-align: right;\">\n",
              "      <th></th>\n",
              "      <th>text</th>\n",
              "    </tr>\n",
              "  </thead>\n",
              "  <tbody>\n",
              "    <tr>\n",
              "      <th>0</th>\n",
              "      <td>Nycticebus linglom is a fossil strepsirrhine p...</td>\n",
              "    </tr>\n",
              "    <tr>\n",
              "      <th>1</th>\n",
              "      <td>Oryzomys pliocaenicus is a fossil rodent from ...</td>\n",
              "    </tr>\n",
              "    <tr>\n",
              "      <th>2</th>\n",
              "      <td>.hack dt hk is a series of single player actio...</td>\n",
              "    </tr>\n",
              "    <tr>\n",
              "      <th>3</th>\n",
              "      <td>The You Drive Me Crazy Tour was the second con...</td>\n",
              "    </tr>\n",
              "    <tr>\n",
              "      <th>4</th>\n",
              "      <td>0 8 4 is the second episode of the first seaso...</td>\n",
              "    </tr>\n",
              "  </tbody>\n",
              "</table>\n",
              "</div>"
            ],
            "text/plain": [
              "                                                text\n",
              "0  Nycticebus linglom is a fossil strepsirrhine p...\n",
              "1  Oryzomys pliocaenicus is a fossil rodent from ...\n",
              "2  .hack dt hk is a series of single player actio...\n",
              "3  The You Drive Me Crazy Tour was the second con...\n",
              "4  0 8 4 is the second episode of the first seaso..."
            ]
          },
          "metadata": {
            "tags": []
          },
          "execution_count": 7
        }
      ]
    },
    {
      "cell_type": "code",
      "metadata": {
        "id": "T6PM-yaLxQTb"
      },
      "source": [
        "#Tamanho da chave 1024 - Blocos de 128\n",
        "#Tamanho da chave 2048 - Blocos de 256\n",
        "#Tamanho da chave 3072 - Blocos de 384"
      ],
      "execution_count": null,
      "outputs": []
    },
    {
      "cell_type": "code",
      "metadata": {
        "id": "Y10WHZ9mzNoU"
      },
      "source": [
        "data['blocos_para_encriptação'] = 0"
      ],
      "execution_count": null,
      "outputs": []
    },
    {
      "cell_type": "code",
      "metadata": {
        "id": "YfCsI6eRzVal",
        "colab": {
          "base_uri": "https://localhost:8080/",
          "height": 187
        },
        "outputId": "18f7fc68-d2fd-4485-f99d-70d5d9111e81"
      },
      "source": [
        "for i in data.index:\n",
        "    a_dividir = data['text'][i]\n",
        "    lista = []\n",
        "    j = 0\n",
        "    while j < len(a_dividir):\n",
        "        lista.append(a_dividir[j:j+255])\n",
        "        j += 255\n",
        "    data['blocos_para_encriptação'][i] = lista   "
      ],
      "execution_count": null,
      "outputs": [
        {
          "output_type": "stream",
          "text": [
            "/usr/local/lib/python3.6/dist-packages/ipykernel_launcher.py:8: SettingWithCopyWarning: \n",
            "A value is trying to be set on a copy of a slice from a DataFrame\n",
            "\n",
            "See the caveats in the documentation: https://pandas.pydata.org/pandas-docs/stable/user_guide/indexing.html#returning-a-view-versus-a-copy\n",
            "  \n",
            "/usr/local/lib/python3.6/dist-packages/pandas/core/indexing.py:671: SettingWithCopyWarning: \n",
            "A value is trying to be set on a copy of a slice from a DataFrame\n",
            "\n",
            "See the caveats in the documentation: https://pandas.pydata.org/pandas-docs/stable/user_guide/indexing.html#returning-a-view-versus-a-copy\n",
            "  self._setitem_with_indexer(indexer, value)\n"
          ],
          "name": "stderr"
        }
      ]
    },
    {
      "cell_type": "code",
      "metadata": {
        "id": "CsCEYAf-zf8x"
      },
      "source": [
        "data['criptografia_elgamal_parte1'] = 0\n",
        "data['criptografia_elgamal_parte2'] = 0"
      ],
      "execution_count": null,
      "outputs": []
    },
    {
      "cell_type": "code",
      "metadata": {
        "id": "FETaxsNz1fTd",
        "colab": {
          "base_uri": "https://localhost:8080/",
          "height": 419
        },
        "outputId": "0c291d73-4933-4f4f-b61f-bed53a9f1637"
      },
      "source": [
        "dados_dataframe"
      ],
      "execution_count": null,
      "outputs": [
        {
          "output_type": "execute_result",
          "data": {
            "text/html": [
              "<div>\n",
              "<style scoped>\n",
              "    .dataframe tbody tr th:only-of-type {\n",
              "        vertical-align: middle;\n",
              "    }\n",
              "\n",
              "    .dataframe tbody tr th {\n",
              "        vertical-align: top;\n",
              "    }\n",
              "\n",
              "    .dataframe thead th {\n",
              "        text-align: right;\n",
              "    }\n",
              "</style>\n",
              "<table border=\"1\" class=\"dataframe\">\n",
              "  <thead>\n",
              "    <tr style=\"text-align: right;\">\n",
              "      <th></th>\n",
              "      <th>0</th>\n",
              "      <th>1</th>\n",
              "    </tr>\n",
              "  </thead>\n",
              "  <tbody>\n",
              "    <tr>\n",
              "      <th>0</th>\n",
              "      <td>[b'B[\\xdc\\x00\\x01u\\xdfG~\\x10\\xe4[\\xdd\\xeb5\\x94...</td>\n",
              "      <td>[b's\\xcd\\rd/\\xb2\\xa4\\xbcz\\'WE\\xa3w\\xfdU@\\xccU\\...</td>\n",
              "    </tr>\n",
              "    <tr>\n",
              "      <th>1</th>\n",
              "      <td>[b'o\\x94\\xd7d\\xa7&lt;\\xc7\\x0e\\x7f\\x05\\xc5\\x94\\x02...</td>\n",
              "      <td>[b\"d^'\\x06\\x03\\xf5q\\xe0\\xf7b\\xea\\t\\xa5\\xc32\\x9...</td>\n",
              "    </tr>\n",
              "    <tr>\n",
              "      <th>2</th>\n",
              "      <td>[b'[\\x98\\xf5\\xa9\\x95\\xe41l\\xc68\\x18\\xd3\"\\xcd^\\...</td>\n",
              "      <td>[b'\\x89\\tp\\x08\\xa1\\xacz\\x0ef\\xdbM6\\xd2\\xb6|q\\x...</td>\n",
              "    </tr>\n",
              "    <tr>\n",
              "      <th>3</th>\n",
              "      <td>[b\"\\x1a\\x84\\xdcW]\\xc8)g\\x93wj\\x91\\x7f\\xd8S\\x9d...</td>\n",
              "      <td>[b\"~?\\xfe\\xbb:\\xe3\\xad?L\\xe0yq\\xd8z\\xd7-\\x91\\x...</td>\n",
              "    </tr>\n",
              "    <tr>\n",
              "      <th>4</th>\n",
              "      <td>[b'\\xcf\\xea\\xc1\\x15Y{\\x99\\xc8\\xf3q\\xb0\\x80r\\xe...</td>\n",
              "      <td>[b'9?t\\xec\\x90\\xc3\\xcac\\x13\\xcb\\x83\\xdd/~\\xfc\\...</td>\n",
              "    </tr>\n",
              "    <tr>\n",
              "      <th>...</th>\n",
              "      <td>...</td>\n",
              "      <td>...</td>\n",
              "    </tr>\n",
              "    <tr>\n",
              "      <th>30274</th>\n",
              "      <td>[b'\\xc6\\x12o\\xd0\\xdbHv\\xcer\\x17y\\x97y[\\xb1\\xa7...</td>\n",
              "      <td>[b'+\\xb5\\xfb&lt;\\xd2v\\xb9\\x1d1&gt;{~\\x12\\x88\\xde\\x86...</td>\n",
              "    </tr>\n",
              "    <tr>\n",
              "      <th>30275</th>\n",
              "      <td>[b\"\\x0be\\xfeV\\x1d /\\x91\\xcd\\\\})\\xb0\\x87#bh\\x92...</td>\n",
              "      <td>[b\"\\x8f\\xf1\\xa7\\xaf\\xd4\\xba\\x81\\xfa8vt[\\xd8\\xc...</td>\n",
              "    </tr>\n",
              "    <tr>\n",
              "      <th>30276</th>\n",
              "      <td>[b'u}\\xf2\\x13/\\xe6\\x89\\xaa\\xd4\\xa3S\\x13\\x10\\xb...</td>\n",
              "      <td>[b'\\r\\x83^\\xab\\x16M\\\\L\\xedo\\xa0\\x1bC\\x8f\\xb0\\\\...</td>\n",
              "    </tr>\n",
              "    <tr>\n",
              "      <th>30277</th>\n",
              "      <td>[b'\\x81\\xe8\\x87\\x0f\\xf9\\n\\x9f\\xbd\\xa2_h\\xc3y\\x...</td>\n",
              "      <td>[b'\\x85]\\\\\\xa1\\xa5[\\x06\\xfa\\xcc\\xa1\\x10\\x97\\xd...</td>\n",
              "    </tr>\n",
              "    <tr>\n",
              "      <th>30278</th>\n",
              "      <td>[b\"4\\x1b\\x07\\x8e\\x9a\\x05\\xc1\\xabd\\x13\\x8d:M'.O...</td>\n",
              "      <td>[b':\\xcf\"Ox\\xa3\\x9d\\xcd\\x03\\xc6I\\xcd; \\xe2\\x02...</td>\n",
              "    </tr>\n",
              "  </tbody>\n",
              "</table>\n",
              "<p>30279 rows × 2 columns</p>\n",
              "</div>"
            ],
            "text/plain": [
              "                                                       0                                                  1\n",
              "0      [b'B[\\xdc\\x00\\x01u\\xdfG~\\x10\\xe4[\\xdd\\xeb5\\x94...  [b's\\xcd\\rd/\\xb2\\xa4\\xbcz\\'WE\\xa3w\\xfdU@\\xccU\\...\n",
              "1      [b'o\\x94\\xd7d\\xa7<\\xc7\\x0e\\x7f\\x05\\xc5\\x94\\x02...  [b\"d^'\\x06\\x03\\xf5q\\xe0\\xf7b\\xea\\t\\xa5\\xc32\\x9...\n",
              "2      [b'[\\x98\\xf5\\xa9\\x95\\xe41l\\xc68\\x18\\xd3\"\\xcd^\\...  [b'\\x89\\tp\\x08\\xa1\\xacz\\x0ef\\xdbM6\\xd2\\xb6|q\\x...\n",
              "3      [b\"\\x1a\\x84\\xdcW]\\xc8)g\\x93wj\\x91\\x7f\\xd8S\\x9d...  [b\"~?\\xfe\\xbb:\\xe3\\xad?L\\xe0yq\\xd8z\\xd7-\\x91\\x...\n",
              "4      [b'\\xcf\\xea\\xc1\\x15Y{\\x99\\xc8\\xf3q\\xb0\\x80r\\xe...  [b'9?t\\xec\\x90\\xc3\\xcac\\x13\\xcb\\x83\\xdd/~\\xfc\\...\n",
              "...                                                  ...                                                ...\n",
              "30274  [b'\\xc6\\x12o\\xd0\\xdbHv\\xcer\\x17y\\x97y[\\xb1\\xa7...  [b'+\\xb5\\xfb<\\xd2v\\xb9\\x1d1>{~\\x12\\x88\\xde\\x86...\n",
              "30275  [b\"\\x0be\\xfeV\\x1d /\\x91\\xcd\\\\})\\xb0\\x87#bh\\x92...  [b\"\\x8f\\xf1\\xa7\\xaf\\xd4\\xba\\x81\\xfa8vt[\\xd8\\xc...\n",
              "30276  [b'u}\\xf2\\x13/\\xe6\\x89\\xaa\\xd4\\xa3S\\x13\\x10\\xb...  [b'\\r\\x83^\\xab\\x16M\\\\L\\xedo\\xa0\\x1bC\\x8f\\xb0\\\\...\n",
              "30277  [b'\\x81\\xe8\\x87\\x0f\\xf9\\n\\x9f\\xbd\\xa2_h\\xc3y\\x...  [b'\\x85]\\\\\\xa1\\xa5[\\x06\\xfa\\xcc\\xa1\\x10\\x97\\xd...\n",
              "30278  [b\"4\\x1b\\x07\\x8e\\x9a\\x05\\xc1\\xabd\\x13\\x8d:M'.O...  [b':\\xcf\"Ox\\xa3\\x9d\\xcd\\x03\\xc6I\\xcd; \\xe2\\x02...\n",
              "\n",
              "[30279 rows x 2 columns]"
            ]
          },
          "metadata": {
            "tags": []
          },
          "execution_count": 29
        }
      ]
    },
    {
      "cell_type": "code",
      "metadata": {
        "id": "rPySlX-Hxg1M"
      },
      "source": [
        "for i in data.index:\n",
        "  data['criptografia_elgamal_parte1'] = dados_dataframe[0]\n",
        "  data['criptografia_elgamal_parte2'] = dados_dataframe[1]"
      ],
      "execution_count": null,
      "outputs": []
    },
    {
      "cell_type": "code",
      "metadata": {
        "id": "LEP9vmLZ2qTo",
        "colab": {
          "base_uri": "https://localhost:8080/",
          "height": 419
        },
        "outputId": "5f528f4f-4744-4815-8776-d9cb5db51cfa"
      },
      "source": [
        "data"
      ],
      "execution_count": null,
      "outputs": [
        {
          "output_type": "execute_result",
          "data": {
            "text/html": [
              "<div>\n",
              "<style scoped>\n",
              "    .dataframe tbody tr th:only-of-type {\n",
              "        vertical-align: middle;\n",
              "    }\n",
              "\n",
              "    .dataframe tbody tr th {\n",
              "        vertical-align: top;\n",
              "    }\n",
              "\n",
              "    .dataframe thead th {\n",
              "        text-align: right;\n",
              "    }\n",
              "</style>\n",
              "<table border=\"1\" class=\"dataframe\">\n",
              "  <thead>\n",
              "    <tr style=\"text-align: right;\">\n",
              "      <th></th>\n",
              "      <th>text</th>\n",
              "      <th>blocos_para_encriptação</th>\n",
              "      <th>criptografia_elgamal_parte1</th>\n",
              "      <th>criptografia_elgamal_parte2</th>\n",
              "    </tr>\n",
              "  </thead>\n",
              "  <tbody>\n",
              "    <tr>\n",
              "      <th>0</th>\n",
              "      <td>Nycticebus linglom is a fossil strepsirrhine p...</td>\n",
              "      <td>[Nycticebus linglom is a fossil strepsirrhine ...</td>\n",
              "      <td>[b'B[\\xdc\\x00\\x01u\\xdfG~\\x10\\xe4[\\xdd\\xeb5\\x94...</td>\n",
              "      <td>[b's\\xcd\\rd/\\xb2\\xa4\\xbcz\\'WE\\xa3w\\xfdU@\\xccU\\...</td>\n",
              "    </tr>\n",
              "    <tr>\n",
              "      <th>1</th>\n",
              "      <td>Oryzomys pliocaenicus is a fossil rodent from ...</td>\n",
              "      <td>[Oryzomys pliocaenicus is a fossil rodent from...</td>\n",
              "      <td>[b'o\\x94\\xd7d\\xa7&lt;\\xc7\\x0e\\x7f\\x05\\xc5\\x94\\x02...</td>\n",
              "      <td>[b\"d^'\\x06\\x03\\xf5q\\xe0\\xf7b\\xea\\t\\xa5\\xc32\\x9...</td>\n",
              "    </tr>\n",
              "    <tr>\n",
              "      <th>2</th>\n",
              "      <td>.hack dt hk is a series of single player actio...</td>\n",
              "      <td>[.hack dt hk is a series of single player acti...</td>\n",
              "      <td>[b'[\\x98\\xf5\\xa9\\x95\\xe41l\\xc68\\x18\\xd3\"\\xcd^\\...</td>\n",
              "      <td>[b'\\x89\\tp\\x08\\xa1\\xacz\\x0ef\\xdbM6\\xd2\\xb6|q\\x...</td>\n",
              "    </tr>\n",
              "    <tr>\n",
              "      <th>3</th>\n",
              "      <td>The You Drive Me Crazy Tour was the second con...</td>\n",
              "      <td>[The You Drive Me Crazy Tour was the second co...</td>\n",
              "      <td>[b\"\\x1a\\x84\\xdcW]\\xc8)g\\x93wj\\x91\\x7f\\xd8S\\x9d...</td>\n",
              "      <td>[b\"~?\\xfe\\xbb:\\xe3\\xad?L\\xe0yq\\xd8z\\xd7-\\x91\\x...</td>\n",
              "    </tr>\n",
              "    <tr>\n",
              "      <th>4</th>\n",
              "      <td>0 8 4 is the second episode of the first seaso...</td>\n",
              "      <td>[0 8 4 is the second episode of the first seas...</td>\n",
              "      <td>[b'\\xcf\\xea\\xc1\\x15Y{\\x99\\xc8\\xf3q\\xb0\\x80r\\xe...</td>\n",
              "      <td>[b'9?t\\xec\\x90\\xc3\\xcac\\x13\\xcb\\x83\\xdd/~\\xfc\\...</td>\n",
              "    </tr>\n",
              "    <tr>\n",
              "      <th>...</th>\n",
              "      <td>...</td>\n",
              "      <td>...</td>\n",
              "      <td>...</td>\n",
              "      <td>...</td>\n",
              "    </tr>\n",
              "    <tr>\n",
              "      <th>30274</th>\n",
              "      <td>Zydokomuna , Polish for Judeo Communism relate...</td>\n",
              "      <td>[Zydokomuna , Polish for Judeo Communism relat...</td>\n",
              "      <td>[b'\\xc6\\x12o\\xd0\\xdbHv\\xcer\\x17y\\x97y[\\xb1\\xa7...</td>\n",
              "      <td>[b'+\\xb5\\xfb&lt;\\xd2v\\xb9\\x1d1&gt;{~\\x12\\x88\\xde\\x86...</td>\n",
              "    </tr>\n",
              "    <tr>\n",
              "      <th>30275</th>\n",
              "      <td>Attus sexpunctatus Hentz, 1845 Zygoballus sexp...</td>\n",
              "      <td>[Attus sexpunctatus Hentz, 1845 Zygoballus sex...</td>\n",
              "      <td>[b\"\\x0be\\xfeV\\x1d /\\x91\\xcd\\\\})\\xb0\\x87#bh\\x92...</td>\n",
              "      <td>[b\"\\x8f\\xf1\\xa7\\xaf\\xd4\\xba\\x81\\xfa8vt[\\xd8\\xc...</td>\n",
              "    </tr>\n",
              "    <tr>\n",
              "      <th>30276</th>\n",
              "      <td>Zygophyseter varolai is an extinct sperm whale...</td>\n",
              "      <td>[Zygophyseter varolai is an extinct sperm whal...</td>\n",
              "      <td>[b'u}\\xf2\\x13/\\xe6\\x89\\xaa\\xd4\\xa3S\\x13\\x10\\xb...</td>\n",
              "      <td>[b'\\r\\x83^\\xab\\x16M\\\\L\\xedo\\xa0\\x1bC\\x8f\\xb0\\\\...</td>\n",
              "    </tr>\n",
              "    <tr>\n",
              "      <th>30277</th>\n",
              "      <td>Zyklon B German listen translated Cyclone B wa...</td>\n",
              "      <td>[Zyklon B German listen translated Cyclone B w...</td>\n",
              "      <td>[b'\\x81\\xe8\\x87\\x0f\\xf9\\n\\x9f\\xbd\\xa2_h\\xc3y\\x...</td>\n",
              "      <td>[b'\\x85]\\\\\\xa1\\xa5[\\x06\\xfa\\xcc\\xa1\\x10\\x97\\xd...</td>\n",
              "    </tr>\n",
              "    <tr>\n",
              "      <th>30278</th>\n",
              "      <td>The Zytglogge Bernese German is a landmark med...</td>\n",
              "      <td>[The Zytglogge Bernese German is a landmark me...</td>\n",
              "      <td>[b\"4\\x1b\\x07\\x8e\\x9a\\x05\\xc1\\xabd\\x13\\x8d:M'.O...</td>\n",
              "      <td>[b':\\xcf\"Ox\\xa3\\x9d\\xcd\\x03\\xc6I\\xcd; \\xe2\\x02...</td>\n",
              "    </tr>\n",
              "  </tbody>\n",
              "</table>\n",
              "<p>30279 rows × 4 columns</p>\n",
              "</div>"
            ],
            "text/plain": [
              "                                                    text  ...                        criptografia_elgamal_parte2\n",
              "0      Nycticebus linglom is a fossil strepsirrhine p...  ...  [b's\\xcd\\rd/\\xb2\\xa4\\xbcz\\'WE\\xa3w\\xfdU@\\xccU\\...\n",
              "1      Oryzomys pliocaenicus is a fossil rodent from ...  ...  [b\"d^'\\x06\\x03\\xf5q\\xe0\\xf7b\\xea\\t\\xa5\\xc32\\x9...\n",
              "2      .hack dt hk is a series of single player actio...  ...  [b'\\x89\\tp\\x08\\xa1\\xacz\\x0ef\\xdbM6\\xd2\\xb6|q\\x...\n",
              "3      The You Drive Me Crazy Tour was the second con...  ...  [b\"~?\\xfe\\xbb:\\xe3\\xad?L\\xe0yq\\xd8z\\xd7-\\x91\\x...\n",
              "4      0 8 4 is the second episode of the first seaso...  ...  [b'9?t\\xec\\x90\\xc3\\xcac\\x13\\xcb\\x83\\xdd/~\\xfc\\...\n",
              "...                                                  ...  ...                                                ...\n",
              "30274  Zydokomuna , Polish for Judeo Communism relate...  ...  [b'+\\xb5\\xfb<\\xd2v\\xb9\\x1d1>{~\\x12\\x88\\xde\\x86...\n",
              "30275  Attus sexpunctatus Hentz, 1845 Zygoballus sexp...  ...  [b\"\\x8f\\xf1\\xa7\\xaf\\xd4\\xba\\x81\\xfa8vt[\\xd8\\xc...\n",
              "30276  Zygophyseter varolai is an extinct sperm whale...  ...  [b'\\r\\x83^\\xab\\x16M\\\\L\\xedo\\xa0\\x1bC\\x8f\\xb0\\\\...\n",
              "30277  Zyklon B German listen translated Cyclone B wa...  ...  [b'\\x85]\\\\\\xa1\\xa5[\\x06\\xfa\\xcc\\xa1\\x10\\x97\\xd...\n",
              "30278  The Zytglogge Bernese German is a landmark med...  ...  [b':\\xcf\"Ox\\xa3\\x9d\\xcd\\x03\\xc6I\\xcd; \\xe2\\x02...\n",
              "\n",
              "[30279 rows x 4 columns]"
            ]
          },
          "metadata": {
            "tags": []
          },
          "execution_count": 31
        }
      ]
    },
    {
      "cell_type": "code",
      "metadata": {
        "id": "EOH4dI1h3M9Z"
      },
      "source": [
        "onde_parou = 0"
      ],
      "execution_count": null,
      "outputs": []
    },
    {
      "cell_type": "code",
      "metadata": {
        "id": "e37B8hA13PYb"
      },
      "source": [
        "#verificar onde parou. Se for a primeira vez, pule essa etapa.\n",
        "for i in data.index:\n",
        "  if data['criptograma_rsa'][i] == 0:\n",
        "    print(i)\n",
        "    onde_parou = i\n",
        "    break"
      ],
      "execution_count": null,
      "outputs": []
    },
    {
      "cell_type": "code",
      "metadata": {
        "id": "QB9yfLRxze_0",
        "colab": {
          "base_uri": "https://localhost:8080/",
          "height": 68
        },
        "outputId": "10bb44d6-0c57-40ef-9e66-4df129a0c5f9"
      },
      "source": [
        "pip install PyCrypto"
      ],
      "execution_count": null,
      "outputs": [
        {
          "output_type": "stream",
          "text": [
            "Processing /root/.cache/pip/wheels/27/02/5e/77a69d0c16bb63c6ed32f5386f33a2809c94bd5414a2f6c196/pycrypto-2.6.1-cp36-cp36m-linux_x86_64.whl\n",
            "Installing collected packages: PyCrypto\n",
            "Successfully installed PyCrypto-2.6.1\n"
          ],
          "name": "stdout"
        }
      ]
    },
    {
      "cell_type": "code",
      "metadata": {
        "id": "lGRFWN7LzkI3"
      },
      "source": [
        "from Crypto.PublicKey import ElGamal\n",
        "from Crypto import Random\n",
        "import random"
      ],
      "execution_count": null,
      "outputs": []
    },
    {
      "cell_type": "code",
      "metadata": {
        "id": "ruDrLKKXznDI"
      },
      "source": [
        "random_generator = Random.new().read\n",
        "key_elgamal = ElGamal.generate(2048,random_generator)"
      ],
      "execution_count": null,
      "outputs": []
    },
    {
      "cell_type": "code",
      "metadata": {
        "id": "sfgTN6NWzpWo"
      },
      "source": [
        "controle_chave = onde_parou\n",
        "controle_ciclos = 0\n",
        "for i in range(0,len(lista)):\n",
        "  lista = data['blocos_para_encriptação'][j]\n",
        "  lista_criptografada_elgamal_parte1 = []\n",
        "  lista_criptografada_elgamal_parte2 = []\n",
        "  if controle_chave == 300:\n",
        "    key_elgamal = ElGamal.generate(2048,random_generator)\n",
        "    controle_chave = 0\n",
        "    controle_ciclo += 1\n",
        "    print(controle_ciclo,\"de 100\")\n",
        "    for i in range(0,len(lista)):\n",
        "      a_criptografar = lista[i]\n",
        "      elgamal_k = random.getrandbits(16)\n",
        "      lista_criptografada_elgamal_parte1.append(key_elgamal.encrypt(bytes(a_criptografar, encoding=\"ascii\"),elgamal_k)[0])\n",
        "      lista_criptografada_elgamal_parte2.append(key_elgamal.encrypt(bytes(a_criptografar, encoding=\"ascii\"),elgamal_k)[1])\n",
        "  else:\n",
        "    for i in range(0,len(lista)):\n",
        "      a_criptografar = lista[i]\n",
        "      elgamal_k = random.getrandbits(16)\n",
        "      lista_criptografada_elgamal_parte1.append(key_elgamal.encrypt(bytes(a_criptografar, encoding=\"ascii\"),elgamal_k)[0])\n",
        "      lista_criptografada_elgamal_parte2.append(key_elgamal.encrypt(bytes(a_criptografar, encoding=\"ascii\"),elgamal_k)[1])\n",
        "  data['criptografia_elgamal_parte1'][j] = lista_criptografada_elgamal_parte1\n",
        "  data['criptografia_elgamal_parte2'][j] = lista_criptografada_elgamal_parte2\n",
        "  save('/content/drive/My Drive/Elgamal_base_1024_Test.npy',data.loc[:, 'criptografia_elgamal_parte1':'criptografia_elgamal_parte2'].to_numpy()) #renomear o arquivo\n",
        "  controle_chave += 1\n",
        "  print(controle_chave, controle_ciclos)"
      ],
      "execution_count": null,
      "outputs": []
    }
  ]
}